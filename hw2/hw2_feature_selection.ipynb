{
  "cells": [
    {
      "cell_type": "code",
      "execution_count": 1,
      "id": "54dbf51a-4d8b-43fd-91ef-ef2cc44363d7",
      "metadata": {
        "id": "54dbf51a-4d8b-43fd-91ef-ef2cc44363d7"
      },
      "outputs": [],
      "source": [
        "import pandas as pd\n",
        "from rdkit import Chem\n",
        "from rdkit.Chem import AllChem\n",
        "import matplotlib.pyplot as plt\n",
        "import seaborn as sns\n",
        "from sklearn.preprocessing import StandardScaler\n",
        "import numpy as np\n",
        "from tqdm.notebook import tqdm"
      ]
    },
    {
      "cell_type": "code",
      "execution_count": 67,
      "id": "a05c8c42-3d4c-41fd-a02d-0e655b85cca2",
      "metadata": {
        "id": "a05c8c42-3d4c-41fd-a02d-0e655b85cca2"
      },
      "outputs": [],
      "source": [
        "df = pd.read_csv('data_with_descriptors.csv', low_memory=False)"
      ]
    },
    {
      "cell_type": "code",
      "execution_count": 68,
      "id": "24adb39d-81ac-4a0a-98d5-55e590e61d4d",
      "metadata": {
        "colab": {
          "base_uri": "https://localhost:8080/"
        },
        "id": "24adb39d-81ac-4a0a-98d5-55e590e61d4d",
        "outputId": "f1e03afd-1597-4f1d-c2ad-605ec5f971f1"
      },
      "outputs": [
        {
          "name": "stdout",
          "output_type": "stream",
          "text": [
            "<class 'pandas.core.frame.DataFrame'>\n",
            "RangeIndex: 20000 entries, 0 to 19999\n",
            "Columns: 1840 entries, mol_id to mZagreb2\n",
            "dtypes: bool(2), float64(860), int64(428), object(550)\n",
            "memory usage: 280.5+ MB\n"
          ]
        }
      ],
      "source": [
        "df.info()"
      ]
    },
    {
      "cell_type": "markdown",
      "id": "b5483739-f0f4-49e2-8cad-288cb03dd350",
      "metadata": {
        "id": "b5483739-f0f4-49e2-8cad-288cb03dd350"
      },
      "source": [
        "# Drop incomplete features"
      ]
    },
    {
      "cell_type": "code",
      "execution_count": 69,
      "id": "bd9871c9-b91e-4ea9-8d69-77e12e56d4a8",
      "metadata": {
        "id": "bd9871c9-b91e-4ea9-8d69-77e12e56d4a8"
      },
      "outputs": [],
      "source": [
        "numeric_columns = df.select_dtypes(include=['float64', 'int64']).columns\n",
        "categorical_columns = df.select_dtypes(include=['object']).columns\n",
        "boolean_columns = df.select_dtypes(include=['bool']).columns\n",
        "\n",
        "df_num = df[numeric_columns]\n",
        "df_cat = df[categorical_columns]\n",
        "df_bool = df[boolean_columns]"
      ]
    },
    {
      "cell_type": "code",
      "execution_count": 70,
      "id": "0029a633-513c-4d58-86b0-d106eaf8c933",
      "metadata": {
        "colab": {
          "base_uri": "https://localhost:8080/"
        },
        "id": "0029a633-513c-4d58-86b0-d106eaf8c933",
        "outputId": "d8a36d1b-3b5f-4faa-83b2-e45de23f11d9"
      },
      "outputs": [
        {
          "name": "stdout",
          "output_type": "stream",
          "text": [
            "Количество колонок с числовыми признаками: 1288\n",
            "Количество колонок с категориальными признаками: 550\n",
            "Количество колонок с булевыми значениями: 2\n"
          ]
        }
      ],
      "source": [
        "print ('Количество колонок с числовыми признаками:', len(numeric_columns))\n",
        "print ('Количество колонок с категориальными признаками:', len(categorical_columns))\n",
        "print ('Количество колонок с булевыми значениями:', len(boolean_columns))"
      ]
    },
    {
      "cell_type": "code",
      "execution_count": 71,
      "id": "c183e5c0-51e5-46ff-a5f1-7f1b1d916a5e",
      "metadata": {
        "colab": {
          "base_uri": "https://localhost:8080/",
          "height": 1000
        },
        "id": "c183e5c0-51e5-46ff-a5f1-7f1b1d916a5e",
        "outputId": "74a3e58d-50ad-4c31-9104-cf2de9813b6a"
      },
      "outputs": [
        {
          "data": {
            "text/html": [
              "<div>\n",
              "<style scoped>\n",
              "    .dataframe tbody tr th:only-of-type {\n",
              "        vertical-align: middle;\n",
              "    }\n",
              "\n",
              "    .dataframe tbody tr th {\n",
              "        vertical-align: top;\n",
              "    }\n",
              "\n",
              "    .dataframe thead th {\n",
              "        text-align: right;\n",
              "    }\n",
              "</style>\n",
              "<table border=\"1\" class=\"dataframe\">\n",
              "  <thead>\n",
              "    <tr style=\"text-align: right;\">\n",
              "      <th></th>\n",
              "      <th>mol_id</th>\n",
              "      <th>smiles</th>\n",
              "      <th>VR3_A</th>\n",
              "      <th>ATS0s</th>\n",
              "      <th>ATS1s</th>\n",
              "      <th>ATS2s</th>\n",
              "      <th>ATS3s</th>\n",
              "      <th>ATS4s</th>\n",
              "      <th>ATS5s</th>\n",
              "      <th>ATS6s</th>\n",
              "      <th>...</th>\n",
              "      <th>MDEN-12</th>\n",
              "      <th>MDEN-13</th>\n",
              "      <th>MDEN-22</th>\n",
              "      <th>MDEN-23</th>\n",
              "      <th>MDEN-33</th>\n",
              "      <th>RotRatio</th>\n",
              "      <th>TopoShapeIndex</th>\n",
              "      <th>PetitjeanIndex</th>\n",
              "      <th>VAdjMat</th>\n",
              "      <th>mZagreb1</th>\n",
              "    </tr>\n",
              "  </thead>\n",
              "  <tbody>\n",
              "    <tr>\n",
              "      <th>0</th>\n",
              "      <td>gdb_45864</td>\n",
              "      <td>O=C1OC=NCC11CN1</td>\n",
              "      <td>3.433457680255007</td>\n",
              "      <td>95.34027777777777</td>\n",
              "      <td>58.208333333333336</td>\n",
              "      <td>100.62499999999999</td>\n",
              "      <td>121.24999999999997</td>\n",
              "      <td>106.75</td>\n",
              "      <td>10.0</td>\n",
              "      <td>3.0</td>\n",
              "      <td>...</td>\n",
              "      <td>float division by zero (MDEN-12)</td>\n",
              "      <td>float division by zero (MDEN-13)</td>\n",
              "      <td>0.33333333333333337</td>\n",
              "      <td>float division by zero (MDEN-23)</td>\n",
              "      <td>float division by zero (MDEN-33)</td>\n",
              "      <td>0.0</td>\n",
              "      <td>0.3333333333333333</td>\n",
              "      <td>0.25</td>\n",
              "      <td>4.321928094887362</td>\n",
              "      <td>2.673611111111111</td>\n",
              "    </tr>\n",
              "    <tr>\n",
              "      <th>1</th>\n",
              "      <td>gdb_11104</td>\n",
              "      <td>C1C(CN1C=O)C=O</td>\n",
              "      <td>3.0308503622828273</td>\n",
              "      <td>123.27777777777777</td>\n",
              "      <td>56.0</td>\n",
              "      <td>77.91666666666667</td>\n",
              "      <td>90.66666666666667</td>\n",
              "      <td>100.66666666666667</td>\n",
              "      <td>40.0</td>\n",
              "      <td>64.0</td>\n",
              "      <td>...</td>\n",
              "      <td>float division by zero (MDEN-12)</td>\n",
              "      <td>float division by zero (MDEN-13)</td>\n",
              "      <td>float division by zero (MDEN-22)</td>\n",
              "      <td>float division by zero (MDEN-23)</td>\n",
              "      <td>float division by zero (MDEN-33)</td>\n",
              "      <td>0.25</td>\n",
              "      <td>1.0</td>\n",
              "      <td>0.5</td>\n",
              "      <td>4.0</td>\n",
              "      <td>3.2222222222222223</td>\n",
              "    </tr>\n",
              "    <tr>\n",
              "      <th>2</th>\n",
              "      <td>gdb_47450</td>\n",
              "      <td>C1CC1N2CCOC2=O</td>\n",
              "      <td>3.347638510080779</td>\n",
              "      <td>87.80555555555556</td>\n",
              "      <td>53.583333333333336</td>\n",
              "      <td>106.30555555555556</td>\n",
              "      <td>89.99999999999999</td>\n",
              "      <td>99.33333333333334</td>\n",
              "      <td>64.0</td>\n",
              "      <td>8.0</td>\n",
              "      <td>...</td>\n",
              "      <td>float division by zero (MDEN-12)</td>\n",
              "      <td>float division by zero (MDEN-13)</td>\n",
              "      <td>float division by zero (MDEN-22)</td>\n",
              "      <td>float division by zero (MDEN-23)</td>\n",
              "      <td>float division by zero (MDEN-33)</td>\n",
              "      <td>0.1</td>\n",
              "      <td>1.0</td>\n",
              "      <td>0.5</td>\n",
              "      <td>4.321928094887362</td>\n",
              "      <td>2.5833333333333335</td>\n",
              "    </tr>\n",
              "    <tr>\n",
              "      <th>3</th>\n",
              "      <td>gdb_88940</td>\n",
              "      <td>OC1CC1NC(=N)C=O</td>\n",
              "      <td>3.5956495803580735</td>\n",
              "      <td>136.83333333333331</td>\n",
              "      <td>68.1111111111111</td>\n",
              "      <td>100.63888888888889</td>\n",
              "      <td>140.38888888888889</td>\n",
              "      <td>85.33333333333334</td>\n",
              "      <td>100.16666666666667</td>\n",
              "      <td>88.0</td>\n",
              "      <td>...</td>\n",
              "      <td>0.4999999999999999</td>\n",
              "      <td>float division by zero (MDEN-13)</td>\n",
              "      <td>float division by zero (MDEN-22)</td>\n",
              "      <td>float division by zero (MDEN-23)</td>\n",
              "      <td>float division by zero (MDEN-33)</td>\n",
              "      <td>0.2222222222222222</td>\n",
              "      <td>1.0</td>\n",
              "      <td>0.5</td>\n",
              "      <td>4.169925001442312</td>\n",
              "      <td>4.083333333333334</td>\n",
              "    </tr>\n",
              "    <tr>\n",
              "      <th>4</th>\n",
              "      <td>gdb_40813</td>\n",
              "      <td>C1NC1C1CCOC=N1</td>\n",
              "      <td>3.482606333903895</td>\n",
              "      <td>51.80555555555556</td>\n",
              "      <td>53.52777777777777</td>\n",
              "      <td>86.08333333333331</td>\n",
              "      <td>88.00000000000001</td>\n",
              "      <td>72.66666666666667</td>\n",
              "      <td>51.0</td>\n",
              "      <td>19.5</td>\n",
              "      <td>...</td>\n",
              "      <td>float division by zero (MDEN-12)</td>\n",
              "      <td>float division by zero (MDEN-13)</td>\n",
              "      <td>0.33333333333333337</td>\n",
              "      <td>float division by zero (MDEN-23)</td>\n",
              "      <td>float division by zero (MDEN-33)</td>\n",
              "      <td>0.1</td>\n",
              "      <td>0.6666666666666666</td>\n",
              "      <td>0.4</td>\n",
              "      <td>4.321928094887362</td>\n",
              "      <td>1.9722222222222223</td>\n",
              "    </tr>\n",
              "    <tr>\n",
              "      <th>...</th>\n",
              "      <td>...</td>\n",
              "      <td>...</td>\n",
              "      <td>...</td>\n",
              "      <td>...</td>\n",
              "      <td>...</td>\n",
              "      <td>...</td>\n",
              "      <td>...</td>\n",
              "      <td>...</td>\n",
              "      <td>...</td>\n",
              "      <td>...</td>\n",
              "      <td>...</td>\n",
              "      <td>...</td>\n",
              "      <td>...</td>\n",
              "      <td>...</td>\n",
              "      <td>...</td>\n",
              "      <td>...</td>\n",
              "      <td>...</td>\n",
              "      <td>...</td>\n",
              "      <td>...</td>\n",
              "      <td>...</td>\n",
              "      <td>...</td>\n",
              "    </tr>\n",
              "    <tr>\n",
              "      <th>19995</th>\n",
              "      <td>gdb_20951</td>\n",
              "      <td>CCOc1cnno1</td>\n",
              "      <td>3.0496274162907704</td>\n",
              "      <td>61.52777777777778</td>\n",
              "      <td>59.75</td>\n",
              "      <td>86.41666666666667</td>\n",
              "      <td>62.41666666666667</td>\n",
              "      <td>37.5</td>\n",
              "      <td>44.5</td>\n",
              "      <td>21.0</td>\n",
              "      <td>...</td>\n",
              "      <td>float division by zero (MDEN-12)</td>\n",
              "      <td>float division by zero (MDEN-13)</td>\n",
              "      <td>1.0</td>\n",
              "      <td>float division by zero (MDEN-23)</td>\n",
              "      <td>float division by zero (MDEN-33)</td>\n",
              "      <td>0.25</td>\n",
              "      <td>0.6666666666666666</td>\n",
              "      <td>0.4</td>\n",
              "      <td>4.0</td>\n",
              "      <td>2.611111111111111</td>\n",
              "    </tr>\n",
              "    <tr>\n",
              "      <th>19996</th>\n",
              "      <td>gdb_11254</td>\n",
              "      <td>CC1OC(C=C1)C#C</td>\n",
              "      <td>2.946857606451954</td>\n",
              "      <td>58.05555555555556</td>\n",
              "      <td>51.33333333333333</td>\n",
              "      <td>82.8611111111111</td>\n",
              "      <td>85.66666666666666</td>\n",
              "      <td>53.83333333333333</td>\n",
              "      <td>33.83333333333333</td>\n",
              "      <td>16.0</td>\n",
              "      <td>...</td>\n",
              "      <td>float division by zero (MDEN-12)</td>\n",
              "      <td>float division by zero (MDEN-13)</td>\n",
              "      <td>float division by zero (MDEN-22)</td>\n",
              "      <td>float division by zero (MDEN-23)</td>\n",
              "      <td>float division by zero (MDEN-33)</td>\n",
              "      <td>0.0</td>\n",
              "      <td>0.6666666666666666</td>\n",
              "      <td>0.4</td>\n",
              "      <td>4.0</td>\n",
              "      <td>3.2222222222222223</td>\n",
              "    </tr>\n",
              "    <tr>\n",
              "      <th>19997</th>\n",
              "      <td>gdb_34418</td>\n",
              "      <td>N#CC12COC1CCC2</td>\n",
              "      <td>3.3639060917480927</td>\n",
              "      <td>75.84027777777777</td>\n",
              "      <td>53.291666666666664</td>\n",
              "      <td>79.125</td>\n",
              "      <td>116.25</td>\n",
              "      <td>119.0</td>\n",
              "      <td>32.0</td>\n",
              "      <td>0.0</td>\n",
              "      <td>...</td>\n",
              "      <td>float division by zero (MDEN-12)</td>\n",
              "      <td>float division by zero (MDEN-13)</td>\n",
              "      <td>float division by zero (MDEN-22)</td>\n",
              "      <td>float division by zero (MDEN-23)</td>\n",
              "      <td>float division by zero (MDEN-33)</td>\n",
              "      <td>0.0</td>\n",
              "      <td>1.0</td>\n",
              "      <td>0.5</td>\n",
              "      <td>4.321928094887362</td>\n",
              "      <td>2.673611111111111</td>\n",
              "    </tr>\n",
              "    <tr>\n",
              "      <th>19998</th>\n",
              "      <td>gdb_46145</td>\n",
              "      <td>O=C1CCC(CO1)C#C</td>\n",
              "      <td>3.228615755024593</td>\n",
              "      <td>102.80555555555554</td>\n",
              "      <td>59.16666666666667</td>\n",
              "      <td>99.66666666666666</td>\n",
              "      <td>119.8888888888889</td>\n",
              "      <td>107.16666666666666</td>\n",
              "      <td>52.16666666666667</td>\n",
              "      <td>31.666666666666664</td>\n",
              "      <td>...</td>\n",
              "      <td>float division by zero (MDEN-12)</td>\n",
              "      <td>float division by zero (MDEN-13)</td>\n",
              "      <td>float division by zero (MDEN-22)</td>\n",
              "      <td>float division by zero (MDEN-23)</td>\n",
              "      <td>float division by zero (MDEN-33)</td>\n",
              "      <td>0.0</td>\n",
              "      <td>1.0</td>\n",
              "      <td>0.5</td>\n",
              "      <td>4.169925001442312</td>\n",
              "      <td>3.4722222222222223</td>\n",
              "    </tr>\n",
              "    <tr>\n",
              "      <th>19999</th>\n",
              "      <td>gdb_110633</td>\n",
              "      <td>CCC1C2C3NC3C12O</td>\n",
              "      <td>3.571148347156849</td>\n",
              "      <td>68.17361111111111</td>\n",
              "      <td>52.33333333333333</td>\n",
              "      <td>81.33333333333333</td>\n",
              "      <td>106.49999999999999</td>\n",
              "      <td>84.33333333333334</td>\n",
              "      <td>55.5</td>\n",
              "      <td>20.5</td>\n",
              "      <td>...</td>\n",
              "      <td>float division by zero (MDEN-12)</td>\n",
              "      <td>float division by zero (MDEN-13)</td>\n",
              "      <td>float division by zero (MDEN-22)</td>\n",
              "      <td>float division by zero (MDEN-23)</td>\n",
              "      <td>float division by zero (MDEN-33)</td>\n",
              "      <td>0.09090909090909091</td>\n",
              "      <td>0.6666666666666666</td>\n",
              "      <td>0.4</td>\n",
              "      <td>4.459431618637297</td>\n",
              "      <td>3.0069444444444446</td>\n",
              "    </tr>\n",
              "  </tbody>\n",
              "</table>\n",
              "<p>20000 rows × 550 columns</p>\n",
              "</div>"
            ],
            "text/plain": [
              "           mol_id           smiles               VR3_A               ATS0s  \\\n",
              "0       gdb_45864  O=C1OC=NCC11CN1   3.433457680255007   95.34027777777777   \n",
              "1       gdb_11104   C1C(CN1C=O)C=O  3.0308503622828273  123.27777777777777   \n",
              "2       gdb_47450   C1CC1N2CCOC2=O   3.347638510080779   87.80555555555556   \n",
              "3       gdb_88940  OC1CC1NC(=N)C=O  3.5956495803580735  136.83333333333331   \n",
              "4       gdb_40813   C1NC1C1CCOC=N1   3.482606333903895   51.80555555555556   \n",
              "...           ...              ...                 ...                 ...   \n",
              "19995   gdb_20951       CCOc1cnno1  3.0496274162907704   61.52777777777778   \n",
              "19996   gdb_11254   CC1OC(C=C1)C#C   2.946857606451954   58.05555555555556   \n",
              "19997   gdb_34418   N#CC12COC1CCC2  3.3639060917480927   75.84027777777777   \n",
              "19998   gdb_46145  O=C1CCC(CO1)C#C   3.228615755024593  102.80555555555554   \n",
              "19999  gdb_110633  CCC1C2C3NC3C12O   3.571148347156849   68.17361111111111   \n",
              "\n",
              "                    ATS1s               ATS2s               ATS3s  \\\n",
              "0      58.208333333333336  100.62499999999999  121.24999999999997   \n",
              "1                    56.0   77.91666666666667   90.66666666666667   \n",
              "2      53.583333333333336  106.30555555555556   89.99999999999999   \n",
              "3        68.1111111111111  100.63888888888889  140.38888888888889   \n",
              "4       53.52777777777777   86.08333333333331   88.00000000000001   \n",
              "...                   ...                 ...                 ...   \n",
              "19995               59.75   86.41666666666667   62.41666666666667   \n",
              "19996   51.33333333333333    82.8611111111111   85.66666666666666   \n",
              "19997  53.291666666666664              79.125              116.25   \n",
              "19998   59.16666666666667   99.66666666666666   119.8888888888889   \n",
              "19999   52.33333333333333   81.33333333333333  106.49999999999999   \n",
              "\n",
              "                    ATS4s               ATS5s               ATS6s  ...  \\\n",
              "0                  106.75                10.0                 3.0  ...   \n",
              "1      100.66666666666667                40.0                64.0  ...   \n",
              "2       99.33333333333334                64.0                 8.0  ...   \n",
              "3       85.33333333333334  100.16666666666667                88.0  ...   \n",
              "4       72.66666666666667                51.0                19.5  ...   \n",
              "...                   ...                 ...                 ...  ...   \n",
              "19995                37.5                44.5                21.0  ...   \n",
              "19996   53.83333333333333   33.83333333333333                16.0  ...   \n",
              "19997               119.0                32.0                 0.0  ...   \n",
              "19998  107.16666666666666   52.16666666666667  31.666666666666664  ...   \n",
              "19999   84.33333333333334                55.5                20.5  ...   \n",
              "\n",
              "                                MDEN-12                           MDEN-13  \\\n",
              "0      float division by zero (MDEN-12)  float division by zero (MDEN-13)   \n",
              "1      float division by zero (MDEN-12)  float division by zero (MDEN-13)   \n",
              "2      float division by zero (MDEN-12)  float division by zero (MDEN-13)   \n",
              "3                    0.4999999999999999  float division by zero (MDEN-13)   \n",
              "4      float division by zero (MDEN-12)  float division by zero (MDEN-13)   \n",
              "...                                 ...                               ...   \n",
              "19995  float division by zero (MDEN-12)  float division by zero (MDEN-13)   \n",
              "19996  float division by zero (MDEN-12)  float division by zero (MDEN-13)   \n",
              "19997  float division by zero (MDEN-12)  float division by zero (MDEN-13)   \n",
              "19998  float division by zero (MDEN-12)  float division by zero (MDEN-13)   \n",
              "19999  float division by zero (MDEN-12)  float division by zero (MDEN-13)   \n",
              "\n",
              "                                MDEN-22                           MDEN-23  \\\n",
              "0                   0.33333333333333337  float division by zero (MDEN-23)   \n",
              "1      float division by zero (MDEN-22)  float division by zero (MDEN-23)   \n",
              "2      float division by zero (MDEN-22)  float division by zero (MDEN-23)   \n",
              "3      float division by zero (MDEN-22)  float division by zero (MDEN-23)   \n",
              "4                   0.33333333333333337  float division by zero (MDEN-23)   \n",
              "...                                 ...                               ...   \n",
              "19995                               1.0  float division by zero (MDEN-23)   \n",
              "19996  float division by zero (MDEN-22)  float division by zero (MDEN-23)   \n",
              "19997  float division by zero (MDEN-22)  float division by zero (MDEN-23)   \n",
              "19998  float division by zero (MDEN-22)  float division by zero (MDEN-23)   \n",
              "19999  float division by zero (MDEN-22)  float division by zero (MDEN-23)   \n",
              "\n",
              "                                MDEN-33             RotRatio  \\\n",
              "0      float division by zero (MDEN-33)                  0.0   \n",
              "1      float division by zero (MDEN-33)                 0.25   \n",
              "2      float division by zero (MDEN-33)                  0.1   \n",
              "3      float division by zero (MDEN-33)   0.2222222222222222   \n",
              "4      float division by zero (MDEN-33)                  0.1   \n",
              "...                                 ...                  ...   \n",
              "19995  float division by zero (MDEN-33)                 0.25   \n",
              "19996  float division by zero (MDEN-33)                  0.0   \n",
              "19997  float division by zero (MDEN-33)                  0.0   \n",
              "19998  float division by zero (MDEN-33)                  0.0   \n",
              "19999  float division by zero (MDEN-33)  0.09090909090909091   \n",
              "\n",
              "           TopoShapeIndex PetitjeanIndex            VAdjMat  \\\n",
              "0      0.3333333333333333           0.25  4.321928094887362   \n",
              "1                     1.0            0.5                4.0   \n",
              "2                     1.0            0.5  4.321928094887362   \n",
              "3                     1.0            0.5  4.169925001442312   \n",
              "4      0.6666666666666666            0.4  4.321928094887362   \n",
              "...                   ...            ...                ...   \n",
              "19995  0.6666666666666666            0.4                4.0   \n",
              "19996  0.6666666666666666            0.4                4.0   \n",
              "19997                 1.0            0.5  4.321928094887362   \n",
              "19998                 1.0            0.5  4.169925001442312   \n",
              "19999  0.6666666666666666            0.4  4.459431618637297   \n",
              "\n",
              "                 mZagreb1  \n",
              "0       2.673611111111111  \n",
              "1      3.2222222222222223  \n",
              "2      2.5833333333333335  \n",
              "3       4.083333333333334  \n",
              "4      1.9722222222222223  \n",
              "...                   ...  \n",
              "19995   2.611111111111111  \n",
              "19996  3.2222222222222223  \n",
              "19997   2.673611111111111  \n",
              "19998  3.4722222222222223  \n",
              "19999  3.0069444444444446  \n",
              "\n",
              "[20000 rows x 550 columns]"
            ]
          },
          "execution_count": 71,
          "metadata": {},
          "output_type": "execute_result"
        }
      ],
      "source": [
        "df_cat"
      ]
    },
    {
      "cell_type": "code",
      "execution_count": 72,
      "id": "afbcc945-3f86-4c51-ad06-1dcc469984ca",
      "metadata": {
        "id": "afbcc945-3f86-4c51-ad06-1dcc469984ca"
      },
      "outputs": [
        {
          "data": {
            "application/vnd.jupyter.widget-view+json": {
              "model_id": "bf3a5610f1624bfc963db63a47e8d049",
              "version_major": 2,
              "version_minor": 0
            },
            "text/plain": [
              "  0%|          | 0/550 [00:00<?, ?it/s]"
            ]
          },
          "metadata": {},
          "output_type": "display_data"
        }
      ],
      "source": [
        "# Replace errors in unloading descriptors with NaN values\n",
        "for col in tqdm(categorical_columns):\n",
        "    df[col] = df[col].replace(to_replace=[r'^invalid value.*', r'^float division.*', r'^max().*', r'^min().*', r'^module.*' ],\n",
        "                              value=np.nan, regex=True).infer_objects()"
      ]
    },
    {
      "cell_type": "code",
      "execution_count": 73,
      "id": "0b504e9d-5caf-47b0-bd7b-2f2cde50e8c2",
      "metadata": {
        "id": "0b504e9d-5caf-47b0-bd7b-2f2cde50e8c2"
      },
      "outputs": [
        {
          "data": {
            "application/vnd.jupyter.widget-view+json": {
              "model_id": "2763e1d8ce524fb9b3a5ea6bd20af740",
              "version_major": 2,
              "version_minor": 0
            },
            "text/plain": [
              "  0%|          | 0/1840 [00:00<?, ?it/s]"
            ]
          },
          "metadata": {},
          "output_type": "display_data"
        }
      ],
      "source": [
        "numeric_like_columns = []\n",
        "for col in tqdm(df.columns):\n",
        "    try:\n",
        "        # Пробуем преобразовать значения в колонке в числа\n",
        "        pd.to_numeric(df[col])\n",
        "        # Если успешно, добавляем колонку в список numeric_like_columns\n",
        "        numeric_like_columns.append(col)\n",
        "    except ValueError:\n",
        "        # Если преобразование вызывает ошибку, это означает, что колонка не содержит только числа\n",
        "        pass\n",
        "\n",
        "# Изменение типа данных колонок на float\n",
        "df[numeric_like_columns] = df[numeric_like_columns].astype(float)"
      ]
    },
    {
      "cell_type": "code",
      "execution_count": 74,
      "id": "54b0a9f3-59c1-4471-b031-0b34c63fe8ad",
      "metadata": {
        "colab": {
          "base_uri": "https://localhost:8080/"
        },
        "id": "54b0a9f3-59c1-4471-b031-0b34c63fe8ad",
        "outputId": "75470992-111d-490e-977e-d5d36d7edd12"
      },
      "outputs": [
        {
          "name": "stdout",
          "output_type": "stream",
          "text": [
            "Количество колонок с числовыми признаками: 1763\n",
            "Количество колонок с категориальными признаками: 77\n",
            "Количество колонок с булевыми значениями: 0\n"
          ]
        }
      ],
      "source": [
        "numeric_columns = df.select_dtypes(include=['float64', 'int64']).columns\n",
        "categorical_columns = df.select_dtypes(include=['object']).columns\n",
        "boolean_columns = df.select_dtypes(include=['bool']).columns\n",
        "print ('Количество колонок с числовыми признаками:', len(numeric_columns))\n",
        "print ('Количество колонок с категориальными признаками:', len(categorical_columns))\n",
        "print ('Количество колонок с булевыми значениями:', len(boolean_columns))"
      ]
    },
    {
      "cell_type": "code",
      "execution_count": 75,
      "id": "22db5979-aed8-454b-8843-8bb3bf733193",
      "metadata": {
        "id": "22db5979-aed8-454b-8843-8bb3bf733193"
      },
      "outputs": [],
      "source": [
        "# Deleting columns with number of NaN values > 1000\n",
        "THRESHOLD = 1000\n",
        "df.dropna(thresh=len(df) - THRESHOLD, axis=1, inplace=True)"
      ]
    },
    {
      "cell_type": "code",
      "execution_count": 76,
      "id": "71bc7911-c849-44b0-ae66-4786855c247a",
      "metadata": {
        "id": "71bc7911-c849-44b0-ae66-4786855c247a",
        "outputId": "7958e625-e5c9-482a-cd8e-fd24e13a764d"
      },
      "outputs": [
        {
          "name": "stdout",
          "output_type": "stream",
          "text": [
            "Количество колонок с числовыми признаками: 1439\n",
            "Количество колонок с категориальными признаками: 65\n",
            "Количество колонок с булевыми значениями: 0\n"
          ]
        }
      ],
      "source": [
        "numeric_columns = df.select_dtypes(include=['float64', 'int64']).columns\n",
        "categorical_columns = df.select_dtypes(include=['object']).columns\n",
        "boolean_columns = df.select_dtypes(include=['bool']).columns\n",
        "print ('Количество колонок с числовыми признаками:', len(numeric_columns))\n",
        "print ('Количество колонок с категориальными признаками:', len(categorical_columns))\n",
        "print ('Количество колонок с булевыми значениями:', len(boolean_columns))"
      ]
    },
    {
      "cell_type": "code",
      "execution_count": 77,
      "id": "96c8bf30-d140-4214-b2e7-a7c178629263",
      "metadata": {
        "id": "96c8bf30-d140-4214-b2e7-a7c178629263",
        "outputId": "c95d04ae-1a28-42a4-e664-35e42da25f45"
      },
      "outputs": [
        {
          "data": {
            "text/plain": [
              "Index(['mol_id', 'smiles', 'VR3_A', 'ATS0s', 'ATS1s', 'ATS2s', 'ATS3s',\n",
              "       'ATS4s', 'ATS5s', 'ATS6s', 'ATS7s', 'ATS8s', 'AATS0s', 'AATS1s',\n",
              "       'AATS2s', 'AATS3s', 'AATS4s', 'AATS5s', 'ATSC0s', 'ATSC1s', 'ATSC2s',\n",
              "       'ATSC3s', 'ATSC4s', 'ATSC5s', 'ATSC6s', 'ATSC7s', 'ATSC8s', 'AATSC0s',\n",
              "       'AATSC1s', 'AATSC2s', 'AATSC3s', 'AATSC4s', 'AATSC5s', 'MATS1s',\n",
              "       'MATS2s', 'MATS3s', 'MATS4s', 'MATS5s', 'GATS1s', 'GATS2s', 'GATS3s',\n",
              "       'GATS4s', 'GATS5s', 'BCUTs-1h', 'BCUTs-1l', 'VR3_DzZ', 'VR3_Dzm',\n",
              "       'VR3_Dzv', 'VR3_Dzse', 'VR3_Dzpe', 'VR3_Dzare', 'VR3_Dzp', 'VR3_Dzi',\n",
              "       'HybRatio', 'Xp-0d', 'AXp-0d', 'Xp-0dv', 'AXp-0dv', 'VR3_D',\n",
              "       'ETA_eta_B', 'AETA_eta_B', 'ETA_eta_BR', 'AETA_eta_BR', 'VAdjMat',\n",
              "       'mZagreb1'],\n",
              "      dtype='object')"
            ]
          },
          "execution_count": 77,
          "metadata": {},
          "output_type": "execute_result"
        }
      ],
      "source": [
        "categorical_columns"
      ]
    },
    {
      "cell_type": "code",
      "execution_count": 78,
      "id": "ff375603-0e1c-43cb-93b2-a3635174d30d",
      "metadata": {
        "colab": {
          "base_uri": "https://localhost:8080/"
        },
        "id": "ff375603-0e1c-43cb-93b2-a3635174d30d",
        "outputId": "288f0196-27bc-4d27-c700-028487da518f"
      },
      "outputs": [
        {
          "data": {
            "text/plain": [
              "1.0                                            6959\n",
              "0.8333333333333334                             2098\n",
              "0.8                                            1312\n",
              "0.8571428571428571                             1183\n",
              "0.5                                            1096\n",
              "0.75                                           1080\n",
              "0.0                                             930\n",
              "0.6                                             879\n",
              "0.6666666666666666                              856\n",
              "0.3333333333333333                              505\n",
              "0.7142857142857143                              493\n",
              "0.25                                            455\n",
              "0.2                                             454\n",
              "0.4                                             431\n",
              "0.5714285714285714                              417\n",
              "0.16666666666666666                             163\n",
              "0.42857142857142855                             162\n",
              "0.875                                           158\n",
              "0.7777777777777778                              125\n",
              "0.2857142857142857                               84\n",
              "0.625                                            75\n",
              "0.14285714285714285                              35\n",
              "0.5555555555555556                               33\n",
              "0.375                                            13\n",
              "there are no sp3 and sp2 carbons (HybRatio)       3\n",
              "0.125                                             1\n",
              "Name: HybRatio, dtype: int64"
            ]
          },
          "execution_count": 78,
          "metadata": {},
          "output_type": "execute_result"
        }
      ],
      "source": [
        "df.HybRatio.value_counts()"
      ]
    },
    {
      "cell_type": "code",
      "execution_count": 79,
      "id": "02e5f50d-e0e1-4a76-847d-538fb30c05a9",
      "metadata": {
        "id": "02e5f50d-e0e1-4a76-847d-538fb30c05a9"
      },
      "outputs": [],
      "source": [
        "# Replace 'there are no sp3 and sp2 carbons' in unloading descriptors with NaN values\n",
        "for col in categorical_columns:\n",
        "    df[col] = df[col].replace(to_replace=[r'^there.*'],\n",
        "                              value=np.nan, regex=True).infer_objects()"
      ]
    },
    {
      "cell_type": "code",
      "execution_count": 80,
      "id": "32384087-65e1-4aa3-a151-4a2b32366613",
      "metadata": {
        "colab": {
          "base_uri": "https://localhost:8080/"
        },
        "id": "32384087-65e1-4aa3-a151-4a2b32366613",
        "outputId": "72b64d81-037e-4363-d159-38035c7a8fe0"
      },
      "outputs": [],
      "source": [
        "cols_to_numeric = ['VR3_A', 'ATS0s', 'ATS1s', 'ATS2s', 'ATS3s',\n",
        "       'ATS4s', 'ATS5s', 'ATS6s', 'ATS7s', 'ATS8s', 'AATS0s', 'AATS1s',\n",
        "       'AATS2s', 'AATS3s', 'AATS4s', 'AATS5s', 'ATSC0s', 'ATSC1s', 'ATSC2s',\n",
        "       'ATSC3s', 'ATSC4s', 'ATSC5s', 'ATSC6s', 'ATSC7s', 'ATSC8s', 'AATSC0s',\n",
        "       'AATSC1s', 'AATSC2s', 'AATSC3s', 'AATSC4s', 'AATSC5s', 'MATS1s',\n",
        "       'MATS2s', 'MATS3s', 'MATS4s', 'MATS5s', 'GATS1s', 'GATS2s', 'GATS3s',\n",
        "       'GATS4s', 'GATS5s', 'BCUTs-1h', 'BCUTs-1l', 'VR3_DzZ', 'VR3_Dzm',\n",
        "       'VR3_Dzv', 'VR3_Dzse', 'VR3_Dzpe', 'VR3_Dzare', 'VR3_Dzp', 'VR3_Dzi',\n",
        "       'HybRatio', 'Xp-0d', 'AXp-0d', 'Xp-0dv', 'AXp-0dv', 'VR3_D',\n",
        "       'ETA_eta_B', 'AETA_eta_B', 'ETA_eta_BR', 'AETA_eta_BR', 'VAdjMat',\n",
        "       'mZagreb1']\n",
        "\n",
        "def to_numeric_or_none(value):\n",
        "    try:\n",
        "        return pd.to_numeric(value)\n",
        "    except ValueError:\n",
        "        return None\n",
        "    \n",
        "df[cols_to_numeric] = df[cols_to_numeric].applymap(to_numeric_or_none)"
      ]
    },
    {
      "cell_type": "code",
      "execution_count": 81,
      "id": "b501dc75",
      "metadata": {},
      "outputs": [
        {
          "data": {
            "text/html": [
              "<div>\n",
              "<style scoped>\n",
              "    .dataframe tbody tr th:only-of-type {\n",
              "        vertical-align: middle;\n",
              "    }\n",
              "\n",
              "    .dataframe tbody tr th {\n",
              "        vertical-align: top;\n",
              "    }\n",
              "\n",
              "    .dataframe thead th {\n",
              "        text-align: right;\n",
              "    }\n",
              "</style>\n",
              "<table border=\"1\" class=\"dataframe\">\n",
              "  <thead>\n",
              "    <tr style=\"text-align: right;\">\n",
              "      <th></th>\n",
              "      <th>mol_id</th>\n",
              "      <th>smiles</th>\n",
              "      <th>A</th>\n",
              "      <th>B</th>\n",
              "      <th>C</th>\n",
              "      <th>mu</th>\n",
              "      <th>alpha</th>\n",
              "      <th>homo</th>\n",
              "      <th>lumo</th>\n",
              "      <th>gap</th>\n",
              "      <th>...</th>\n",
              "      <th>SRW10</th>\n",
              "      <th>TSRW10</th>\n",
              "      <th>MW</th>\n",
              "      <th>AMW</th>\n",
              "      <th>WPath</th>\n",
              "      <th>WPol</th>\n",
              "      <th>Zagreb1</th>\n",
              "      <th>Zagreb2</th>\n",
              "      <th>mZagreb1</th>\n",
              "      <th>mZagreb2</th>\n",
              "    </tr>\n",
              "  </thead>\n",
              "  <tbody>\n",
              "    <tr>\n",
              "      <th>0</th>\n",
              "      <td>gdb_45864</td>\n",
              "      <td>O=C1OC=NCC11CN1</td>\n",
              "      <td>2.65458</td>\n",
              "      <td>1.85295</td>\n",
              "      <td>1.23017</td>\n",
              "      <td>1.4059</td>\n",
              "      <td>66.11</td>\n",
              "      <td>-0.2693</td>\n",
              "      <td>-0.0363</td>\n",
              "      <td>0.2331</td>\n",
              "      <td>...</td>\n",
              "      <td>9.475854</td>\n",
              "      <td>59.263520</td>\n",
              "      <td>126.042927</td>\n",
              "      <td>8.402862</td>\n",
              "      <td>79.0</td>\n",
              "      <td>11.0</td>\n",
              "      <td>50.0</td>\n",
              "      <td>61.0</td>\n",
              "      <td>2.673611</td>\n",
              "      <td>1.958333</td>\n",
              "    </tr>\n",
              "    <tr>\n",
              "      <th>1</th>\n",
              "      <td>gdb_11104</td>\n",
              "      <td>C1C(CN1C=O)C=O</td>\n",
              "      <td>4.94875</td>\n",
              "      <td>1.15582</td>\n",
              "      <td>1.13915</td>\n",
              "      <td>3.8620</td>\n",
              "      <td>64.32</td>\n",
              "      <td>-0.2496</td>\n",
              "      <td>-0.0414</td>\n",
              "      <td>0.2082</td>\n",
              "      <td>...</td>\n",
              "      <td>8.979291</td>\n",
              "      <td>37.044791</td>\n",
              "      <td>113.047678</td>\n",
              "      <td>7.536512</td>\n",
              "      <td>70.0</td>\n",
              "      <td>6.0</td>\n",
              "      <td>36.0</td>\n",
              "      <td>40.0</td>\n",
              "      <td>3.222222</td>\n",
              "      <td>2.000000</td>\n",
              "    </tr>\n",
              "    <tr>\n",
              "      <th>2</th>\n",
              "      <td>gdb_47450</td>\n",
              "      <td>C1CC1N2CCOC2=O</td>\n",
              "      <td>3.08235</td>\n",
              "      <td>1.38222</td>\n",
              "      <td>1.01814</td>\n",
              "      <td>4.6197</td>\n",
              "      <td>72.18</td>\n",
              "      <td>-0.2461</td>\n",
              "      <td>0.0510</td>\n",
              "      <td>0.2972</td>\n",
              "      <td>...</td>\n",
              "      <td>9.064274</td>\n",
              "      <td>58.079349</td>\n",
              "      <td>127.063329</td>\n",
              "      <td>7.059074</td>\n",
              "      <td>83.0</td>\n",
              "      <td>9.0</td>\n",
              "      <td>48.0</td>\n",
              "      <td>57.0</td>\n",
              "      <td>2.583333</td>\n",
              "      <td>1.972222</td>\n",
              "    </tr>\n",
              "    <tr>\n",
              "      <th>3</th>\n",
              "      <td>gdb_88940</td>\n",
              "      <td>OC1CC1NC(=N)C=O</td>\n",
              "      <td>3.95367</td>\n",
              "      <td>0.82949</td>\n",
              "      <td>0.72068</td>\n",
              "      <td>4.6363</td>\n",
              "      <td>74.62</td>\n",
              "      <td>-0.2233</td>\n",
              "      <td>-0.0636</td>\n",
              "      <td>0.1597</td>\n",
              "      <td>...</td>\n",
              "      <td>8.834774</td>\n",
              "      <td>57.095844</td>\n",
              "      <td>128.058577</td>\n",
              "      <td>7.532857</td>\n",
              "      <td>98.0</td>\n",
              "      <td>7.0</td>\n",
              "      <td>42.0</td>\n",
              "      <td>47.0</td>\n",
              "      <td>4.083333</td>\n",
              "      <td>2.111111</td>\n",
              "    </tr>\n",
              "    <tr>\n",
              "      <th>4</th>\n",
              "      <td>gdb_40813</td>\n",
              "      <td>C1NC1C1CCOC=N1</td>\n",
              "      <td>4.14610</td>\n",
              "      <td>1.04198</td>\n",
              "      <td>0.87868</td>\n",
              "      <td>2.6945</td>\n",
              "      <td>76.88</td>\n",
              "      <td>-0.2405</td>\n",
              "      <td>0.0257</td>\n",
              "      <td>0.2662</td>\n",
              "      <td>...</td>\n",
              "      <td>8.954286</td>\n",
              "      <td>56.778649</td>\n",
              "      <td>126.079313</td>\n",
              "      <td>6.635753</td>\n",
              "      <td>87.0</td>\n",
              "      <td>9.0</td>\n",
              "      <td>46.0</td>\n",
              "      <td>53.0</td>\n",
              "      <td>1.972222</td>\n",
              "      <td>2.027778</td>\n",
              "    </tr>\n",
              "    <tr>\n",
              "      <th>...</th>\n",
              "      <td>...</td>\n",
              "      <td>...</td>\n",
              "      <td>...</td>\n",
              "      <td>...</td>\n",
              "      <td>...</td>\n",
              "      <td>...</td>\n",
              "      <td>...</td>\n",
              "      <td>...</td>\n",
              "      <td>...</td>\n",
              "      <td>...</td>\n",
              "      <td>...</td>\n",
              "      <td>...</td>\n",
              "      <td>...</td>\n",
              "      <td>...</td>\n",
              "      <td>...</td>\n",
              "      <td>...</td>\n",
              "      <td>...</td>\n",
              "      <td>...</td>\n",
              "      <td>...</td>\n",
              "      <td>...</td>\n",
              "      <td>...</td>\n",
              "    </tr>\n",
              "    <tr>\n",
              "      <th>19995</th>\n",
              "      <td>gdb_20951</td>\n",
              "      <td>CCOc1cnno1</td>\n",
              "      <td>7.81782</td>\n",
              "      <td>1.16858</td>\n",
              "      <td>1.02975</td>\n",
              "      <td>4.2179</td>\n",
              "      <td>61.95</td>\n",
              "      <td>-0.2426</td>\n",
              "      <td>-0.0227</td>\n",
              "      <td>0.2199</td>\n",
              "      <td>...</td>\n",
              "      <td>8.124743</td>\n",
              "      <td>47.992435</td>\n",
              "      <td>114.042927</td>\n",
              "      <td>8.145923</td>\n",
              "      <td>67.0</td>\n",
              "      <td>5.0</td>\n",
              "      <td>34.0</td>\n",
              "      <td>36.0</td>\n",
              "      <td>2.611111</td>\n",
              "      <td>2.000000</td>\n",
              "    </tr>\n",
              "    <tr>\n",
              "      <th>19996</th>\n",
              "      <td>gdb_11254</td>\n",
              "      <td>CC1OC(C=C1)C#C</td>\n",
              "      <td>5.06532</td>\n",
              "      <td>1.39767</td>\n",
              "      <td>1.22187</td>\n",
              "      <td>1.6287</td>\n",
              "      <td>72.66</td>\n",
              "      <td>-0.2464</td>\n",
              "      <td>0.0068</td>\n",
              "      <td>0.2532</td>\n",
              "      <td>...</td>\n",
              "      <td>8.365672</td>\n",
              "      <td>49.065586</td>\n",
              "      <td>108.057515</td>\n",
              "      <td>6.753595</td>\n",
              "      <td>63.0</td>\n",
              "      <td>6.0</td>\n",
              "      <td>36.0</td>\n",
              "      <td>39.0</td>\n",
              "      <td>3.222222</td>\n",
              "      <td>1.916667</td>\n",
              "    </tr>\n",
              "    <tr>\n",
              "      <th>19997</th>\n",
              "      <td>gdb_34418</td>\n",
              "      <td>N#CC12COC1CCC2</td>\n",
              "      <td>2.32431</td>\n",
              "      <td>1.67523</td>\n",
              "      <td>1.25940</td>\n",
              "      <td>3.1914</td>\n",
              "      <td>75.22</td>\n",
              "      <td>-0.2686</td>\n",
              "      <td>0.0191</td>\n",
              "      <td>0.2876</td>\n",
              "      <td>...</td>\n",
              "      <td>9.713597</td>\n",
              "      <td>54.600998</td>\n",
              "      <td>123.068414</td>\n",
              "      <td>6.837134</td>\n",
              "      <td>78.0</td>\n",
              "      <td>10.0</td>\n",
              "      <td>50.0</td>\n",
              "      <td>62.0</td>\n",
              "      <td>2.673611</td>\n",
              "      <td>2.041667</td>\n",
              "    </tr>\n",
              "    <tr>\n",
              "      <th>19998</th>\n",
              "      <td>gdb_46145</td>\n",
              "      <td>O=C1CCC(CO1)C#C</td>\n",
              "      <td>4.58871</td>\n",
              "      <td>0.99416</td>\n",
              "      <td>0.84701</td>\n",
              "      <td>3.9391</td>\n",
              "      <td>74.90</td>\n",
              "      <td>-0.2643</td>\n",
              "      <td>0.0061</td>\n",
              "      <td>0.2704</td>\n",
              "      <td>...</td>\n",
              "      <td>8.590258</td>\n",
              "      <td>37.289972</td>\n",
              "      <td>124.052429</td>\n",
              "      <td>7.297202</td>\n",
              "      <td>90.0</td>\n",
              "      <td>9.0</td>\n",
              "      <td>40.0</td>\n",
              "      <td>43.0</td>\n",
              "      <td>3.472222</td>\n",
              "      <td>2.166667</td>\n",
              "    </tr>\n",
              "    <tr>\n",
              "      <th>19999</th>\n",
              "      <td>gdb_110633</td>\n",
              "      <td>CCC1C2C3NC3C12O</td>\n",
              "      <td>2.42570</td>\n",
              "      <td>1.39469</td>\n",
              "      <td>1.07451</td>\n",
              "      <td>1.1588</td>\n",
              "      <td>78.84</td>\n",
              "      <td>-0.2066</td>\n",
              "      <td>0.0711</td>\n",
              "      <td>0.2777</td>\n",
              "      <td>...</td>\n",
              "      <td>10.575232</td>\n",
              "      <td>66.594721</td>\n",
              "      <td>125.084064</td>\n",
              "      <td>6.254203</td>\n",
              "      <td>80.0</td>\n",
              "      <td>8.0</td>\n",
              "      <td>62.0</td>\n",
              "      <td>87.0</td>\n",
              "      <td>3.006944</td>\n",
              "      <td>1.833333</td>\n",
              "    </tr>\n",
              "  </tbody>\n",
              "</table>\n",
              "<p>20000 rows × 1504 columns</p>\n",
              "</div>"
            ],
            "text/plain": [
              "           mol_id           smiles        A        B        C      mu  alpha  \\\n",
              "0       gdb_45864  O=C1OC=NCC11CN1  2.65458  1.85295  1.23017  1.4059  66.11   \n",
              "1       gdb_11104   C1C(CN1C=O)C=O  4.94875  1.15582  1.13915  3.8620  64.32   \n",
              "2       gdb_47450   C1CC1N2CCOC2=O  3.08235  1.38222  1.01814  4.6197  72.18   \n",
              "3       gdb_88940  OC1CC1NC(=N)C=O  3.95367  0.82949  0.72068  4.6363  74.62   \n",
              "4       gdb_40813   C1NC1C1CCOC=N1  4.14610  1.04198  0.87868  2.6945  76.88   \n",
              "...           ...              ...      ...      ...      ...     ...    ...   \n",
              "19995   gdb_20951       CCOc1cnno1  7.81782  1.16858  1.02975  4.2179  61.95   \n",
              "19996   gdb_11254   CC1OC(C=C1)C#C  5.06532  1.39767  1.22187  1.6287  72.66   \n",
              "19997   gdb_34418   N#CC12COC1CCC2  2.32431  1.67523  1.25940  3.1914  75.22   \n",
              "19998   gdb_46145  O=C1CCC(CO1)C#C  4.58871  0.99416  0.84701  3.9391  74.90   \n",
              "19999  gdb_110633  CCC1C2C3NC3C12O  2.42570  1.39469  1.07451  1.1588  78.84   \n",
              "\n",
              "         homo    lumo     gap  ...      SRW10     TSRW10          MW  \\\n",
              "0     -0.2693 -0.0363  0.2331  ...   9.475854  59.263520  126.042927   \n",
              "1     -0.2496 -0.0414  0.2082  ...   8.979291  37.044791  113.047678   \n",
              "2     -0.2461  0.0510  0.2972  ...   9.064274  58.079349  127.063329   \n",
              "3     -0.2233 -0.0636  0.1597  ...   8.834774  57.095844  128.058577   \n",
              "4     -0.2405  0.0257  0.2662  ...   8.954286  56.778649  126.079313   \n",
              "...       ...     ...     ...  ...        ...        ...         ...   \n",
              "19995 -0.2426 -0.0227  0.2199  ...   8.124743  47.992435  114.042927   \n",
              "19996 -0.2464  0.0068  0.2532  ...   8.365672  49.065586  108.057515   \n",
              "19997 -0.2686  0.0191  0.2876  ...   9.713597  54.600998  123.068414   \n",
              "19998 -0.2643  0.0061  0.2704  ...   8.590258  37.289972  124.052429   \n",
              "19999 -0.2066  0.0711  0.2777  ...  10.575232  66.594721  125.084064   \n",
              "\n",
              "            AMW  WPath  WPol  Zagreb1  Zagreb2  mZagreb1  mZagreb2  \n",
              "0      8.402862   79.0  11.0     50.0     61.0  2.673611  1.958333  \n",
              "1      7.536512   70.0   6.0     36.0     40.0  3.222222  2.000000  \n",
              "2      7.059074   83.0   9.0     48.0     57.0  2.583333  1.972222  \n",
              "3      7.532857   98.0   7.0     42.0     47.0  4.083333  2.111111  \n",
              "4      6.635753   87.0   9.0     46.0     53.0  1.972222  2.027778  \n",
              "...         ...    ...   ...      ...      ...       ...       ...  \n",
              "19995  8.145923   67.0   5.0     34.0     36.0  2.611111  2.000000  \n",
              "19996  6.753595   63.0   6.0     36.0     39.0  3.222222  1.916667  \n",
              "19997  6.837134   78.0  10.0     50.0     62.0  2.673611  2.041667  \n",
              "19998  7.297202   90.0   9.0     40.0     43.0  3.472222  2.166667  \n",
              "19999  6.254203   80.0   8.0     62.0     87.0  3.006944  1.833333  \n",
              "\n",
              "[20000 rows x 1504 columns]"
            ]
          },
          "execution_count": 81,
          "metadata": {},
          "output_type": "execute_result"
        }
      ],
      "source": [
        "df"
      ]
    },
    {
      "cell_type": "code",
      "execution_count": 82,
      "id": "13203d0f-faeb-42fb-8288-3cc07c23c7e2",
      "metadata": {
        "colab": {
          "base_uri": "https://localhost:8080/"
        },
        "id": "13203d0f-faeb-42fb-8288-3cc07c23c7e2",
        "outputId": "705e65c5-1b91-403a-bbdd-9f9f4e0dcfc1"
      },
      "outputs": [
        {
          "name": "stdout",
          "output_type": "stream",
          "text": [
            "Количество колонок с числовыми признаками: 1502\n",
            "Количество колонок с категориальными признаками: 2\n",
            "Количество колонок с булевыми значениями: 0\n"
          ]
        }
      ],
      "source": [
        "numeric_columns = df.select_dtypes(include=['float64', 'int64']).columns\n",
        "categorical_columns = df.select_dtypes(include=['object']).columns\n",
        "boolean_columns = df.select_dtypes(include=['bool']).columns\n",
        "print ('Количество колонок с числовыми признаками:', len(numeric_columns))\n",
        "print ('Количество колонок с категориальными признаками:', len(categorical_columns))\n",
        "print ('Количество колонок с булевыми значениями:', len(boolean_columns))"
      ]
    },
    {
      "cell_type": "code",
      "execution_count": 83,
      "id": "fb2277f8-b879-4f6f-bd1e-ac18edabaeac",
      "metadata": {
        "id": "fb2277f8-b879-4f6f-bd1e-ac18edabaeac"
      },
      "outputs": [],
      "source": [
        "df.to_csv('clean1.csv', index=False)"
      ]
    },
    {
      "cell_type": "code",
      "execution_count": 84,
      "id": "OACQ-Rj3pGyA",
      "metadata": {
        "colab": {
          "base_uri": "https://localhost:8080/"
        },
        "id": "OACQ-Rj3pGyA",
        "outputId": "4c957516-eb8f-4f35-a445-eb084ef7d824"
      },
      "outputs": [
        {
          "data": {
            "text/plain": [
              "Index(['mol_id', 'smiles', 'A', 'B', 'C', 'mu', 'alpha', 'homo', 'lumo', 'gap',\n",
              "       ...\n",
              "       'SRW10', 'TSRW10', 'MW', 'AMW', 'WPath', 'WPol', 'Zagreb1', 'Zagreb2',\n",
              "       'mZagreb1', 'mZagreb2'],\n",
              "      dtype='object', length=1504)"
            ]
          },
          "execution_count": 84,
          "metadata": {},
          "output_type": "execute_result"
        }
      ],
      "source": [
        "df.columns"
      ]
    },
    {
      "cell_type": "markdown",
      "id": "UGHLWjO7vYSc",
      "metadata": {
        "id": "UGHLWjO7vYSc"
      },
      "source": [
        "# Dealing with NaN"
      ]
    },
    {
      "cell_type": "code",
      "execution_count": 87,
      "id": "5d2db3b5",
      "metadata": {},
      "outputs": [
        {
          "name": "stdout",
          "output_type": "stream",
          "text": [
            "<class 'pandas.core.frame.DataFrame'>\n",
            "RangeIndex: 20000 entries, 0 to 19999\n",
            "Columns: 1504 entries, mol_id to mZagreb2\n",
            "dtypes: float64(1502), object(2)\n",
            "memory usage: 229.5+ MB\n"
          ]
        }
      ],
      "source": [
        "df.info()"
      ]
    },
    {
      "cell_type": "code",
      "execution_count": 92,
      "id": "qmjai0xnvYSe",
      "metadata": {
        "id": "qmjai0xnvYSe"
      },
      "outputs": [
        {
          "data": {
            "text/plain": [
              "19652"
            ]
          },
          "execution_count": 92,
          "metadata": {},
          "output_type": "execute_result"
        }
      ],
      "source": [
        "df_without_NaN = df.dropna()\n",
        "len(df_without_NaN)"
      ]
    },
    {
      "cell_type": "code",
      "execution_count": 90,
      "id": "qSutK0hMvYSf",
      "metadata": {
        "colab": {
          "base_uri": "https://localhost:8080/"
        },
        "id": "qSutK0hMvYSf",
        "outputId": "661756c7-d16d-4f0f-894b-083a27ed7db2"
      },
      "outputs": [],
      "source": [
        "mean_value = df['HybRatio'].mean()\n",
        "df['HybRatio'].fillna(mean_value, inplace=True)"
      ]
    },
    {
      "cell_type": "code",
      "execution_count": 91,
      "id": "ZCE4vUZTvYSg",
      "metadata": {
        "colab": {
          "base_uri": "https://localhost:8080/"
        },
        "id": "ZCE4vUZTvYSg",
        "outputId": "dedc4742-24b7-4062-bc38-046466cf967a"
      },
      "outputs": [
        {
          "data": {
            "text/plain": [
              "Series([], dtype: int64)"
            ]
          },
          "execution_count": 91,
          "metadata": {},
          "output_type": "execute_result"
        }
      ],
      "source": [
        "null_counts = df_without_NaN.isnull().sum()\n",
        "nulls = null_counts[null_counts > 0]\n",
        "nulls"
      ]
    },
    {
      "cell_type": "code",
      "execution_count": 93,
      "id": "ee46b118",
      "metadata": {},
      "outputs": [
        {
          "data": {
            "text/plain": [
              "19652"
            ]
          },
          "execution_count": 93,
          "metadata": {},
          "output_type": "execute_result"
        }
      ],
      "source": [
        "df_without_NaN = df.dropna()\n",
        "len(df_without_NaN)"
      ]
    },
    {
      "cell_type": "code",
      "execution_count": 94,
      "id": "TmrE_6xSw8aw",
      "metadata": {
        "id": "TmrE_6xSw8aw"
      },
      "outputs": [],
      "source": [
        "df_without_NaN.to_csv('clean2.csv', index=False)"
      ]
    },
    {
      "cell_type": "markdown",
      "id": "e71a9f59-1bf2-4b11-996a-0c737731a77b",
      "metadata": {
        "id": "e71a9f59-1bf2-4b11-996a-0c737731a77b"
      },
      "source": [
        "# Drop features with high correlation"
      ]
    },
    {
      "cell_type": "markdown",
      "id": "c9bf4a59",
      "metadata": {},
      "source": [
        "Удаляем таргетную величину, а также параметры 'homo' и 'lumo' напрямую коррелирующие с таргетным значением"
      ]
    },
    {
      "cell_type": "code",
      "execution_count": 95,
      "id": "VoUj_Wz20_kd",
      "metadata": {
        "id": "VoUj_Wz20_kd"
      },
      "outputs": [],
      "source": [
        "df_num = df_without_NaN[numeric_columns].drop(['gap', 'homo', 'lumo'], axis = 1)"
      ]
    },
    {
      "cell_type": "code",
      "execution_count": 96,
      "id": "I23tmsCg0_ke",
      "metadata": {
        "id": "I23tmsCg0_ke",
        "outputId": "f2179018-8aae-47dd-d6eb-fd11709587de"
      },
      "outputs": [
        {
          "name": "stdout",
          "output_type": "stream",
          "text": [
            "<class 'pandas.core.frame.DataFrame'>\n",
            "Int64Index: 19652 entries, 0 to 19999\n",
            "Columns: 1499 entries, A to mZagreb2\n",
            "dtypes: float64(1499)\n",
            "memory usage: 224.9 MB\n"
          ]
        }
      ],
      "source": [
        "df_num.info()"
      ]
    },
    {
      "cell_type": "code",
      "execution_count": 98,
      "id": "iwSJRiG1yBTQ",
      "metadata": {
        "colab": {
          "base_uri": "https://localhost:8080/"
        },
        "id": "iwSJRiG1yBTQ",
        "outputId": "ff5acbdc-6670-4bdd-fad5-f70c46f2d3e5"
      },
      "outputs": [
        {
          "name": "stdout",
          "output_type": "stream",
          "text": [
            "Количество признаков после удаления коррелирующих: 520\n"
          ]
        }
      ],
      "source": [
        "corr_matrix = df_num.corr().abs()\n",
        "\n",
        "# Создание маски для верхнего треугольника матрицы корреляций\n",
        "upper = corr_matrix.where(np.triu(np.ones(corr_matrix.shape), k=1).astype(bool))\n",
        "\n",
        "# Нахождение индексов столбцов с корреляцией больше 0.8\n",
        "to_drop = [column for column in upper.columns if any(upper[column] > 0.8)]\n",
        "\n",
        "# Удаление сильновзаимосвязанных признаков\n",
        "df_after_corr = df_num.drop(columns=to_drop)\n",
        "\n",
        "print(\"Количество признаков после удаления коррелирующих:\", df_after_corr.shape[1])"
      ]
    },
    {
      "cell_type": "code",
      "execution_count": 99,
      "id": "JMpaP5aP0d2N",
      "metadata": {
        "colab": {
          "base_uri": "https://localhost:8080/"
        },
        "id": "JMpaP5aP0d2N",
        "outputId": "eb32d6e1-6eb7-434c-8135-ce30f114720a"
      },
      "outputs": [
        {
          "data": {
            "text/plain": [
              "979"
            ]
          },
          "execution_count": 99,
          "metadata": {},
          "output_type": "execute_result"
        }
      ],
      "source": [
        "len(to_drop)"
      ]
    },
    {
      "cell_type": "code",
      "execution_count": 100,
      "id": "34aa124b-d972-46b0-9784-19be485b59ac",
      "metadata": {
        "colab": {
          "base_uri": "https://localhost:8080/"
        },
        "id": "34aa124b-d972-46b0-9784-19be485b59ac",
        "outputId": "48b8591f-240f-4ec9-caa8-6dd58cb5d681"
      },
      "outputs": [
        {
          "name": "stdout",
          "output_type": "stream",
          "text": [
            "<class 'pandas.core.frame.DataFrame'>\n",
            "Int64Index: 19652 entries, 0 to 19999\n",
            "Columns: 520 entries, A to TopoShapeIndex\n",
            "dtypes: float64(520)\n",
            "memory usage: 78.1 MB\n"
          ]
        }
      ],
      "source": [
        "df_after_corr.info()"
      ]
    },
    {
      "cell_type": "code",
      "execution_count": 101,
      "id": "6V2IAF-xzgV5",
      "metadata": {
        "id": "6V2IAF-xzgV5"
      },
      "outputs": [],
      "source": [
        "df_after_corr.to_csv('after_corr.csv', index=False)"
      ]
    },
    {
      "cell_type": "markdown",
      "id": "6f544284-deda-4489-9979-0e64391fd911",
      "metadata": {
        "id": "6f544284-deda-4489-9979-0e64391fd911"
      },
      "source": [
        "# Drop features with (near-)zero variance"
      ]
    },
    {
      "cell_type": "code",
      "execution_count": 102,
      "id": "39015715-ce9a-4684-8e4a-568606e99b2a",
      "metadata": {
        "id": "39015715-ce9a-4684-8e4a-568606e99b2a"
      },
      "outputs": [],
      "source": [
        "from sklearn.feature_selection import VarianceThreshold"
      ]
    },
    {
      "cell_type": "code",
      "execution_count": 109,
      "id": "b1060317-43d3-4c35-8242-c43fc21816c1",
      "metadata": {
        "colab": {
          "base_uri": "https://localhost:8080/",
          "height": 564
        },
        "id": "b1060317-43d3-4c35-8242-c43fc21816c1",
        "outputId": "f41a2a5d-ddb5-4ec1-a349-da46d665a33a"
      },
      "outputs": [
        {
          "data": {
            "image/png": "[encoded data removed]",
            "text/plain": [
              "<Figure size 2000x600 with 1 Axes>"
            ]
          },
          "metadata": {},
          "output_type": "display_data"
        }
      ],
      "source": [
        "features_to_plot = df_after_corr.iloc[:, 11:21]\n",
        "\n",
        "# Создадим boxplot для выбранных признаков\n",
        "plt.figure(figsize=(20, 6))\n",
        "features_to_plot.boxplot()\n",
        "plt.title('Boxplot для первых 10 признаков')\n",
        "plt.ylabel('Значение признака')\n",
        "plt.xlabel('Признаки')\n",
        "plt.show()"
      ]
    },
    {
      "cell_type": "code",
      "execution_count": 124,
      "id": "22605f67-6658-4fba-b5a0-81e46d1d617d",
      "metadata": {
        "id": "22605f67-6658-4fba-b5a0-81e46d1d617d"
      },
      "outputs": [],
      "source": [
        "threshold = 0.15\n",
        "\n",
        "# Создание объекта VarianceThreshold\n",
        "selector = VarianceThreshold(threshold)\n",
        "\n",
        "df_clean = df_after_corr.copy()\n",
        "selector.fit(df_clean)\n",
        "\n",
        "mask = selector.get_support()\n",
        "\n",
        "# Фильтрация: только признаки, прошедшие порог\n",
        "df_clean = df_clean.loc[:, mask]"
      ]
    },
    {
      "cell_type": "code",
      "execution_count": 125,
      "id": "5b18686f-bc4e-41e4-9374-599d398d5a56",
      "metadata": {
        "colab": {
          "base_uri": "https://localhost:8080/"
        },
        "id": "5b18686f-bc4e-41e4-9374-599d398d5a56",
        "outputId": "cc87bff9-8cd5-4e59-caf8-1c2ef74d6e8f"
      },
      "outputs": [
        {
          "name": "stdout",
          "output_type": "stream",
          "text": [
            "<class 'pandas.core.frame.DataFrame'>\n",
            "Int64Index: 19652 entries, 0 to 19999\n",
            "Columns: 177 entries, A to Radius\n",
            "dtypes: float64(177)\n",
            "memory usage: 26.7 MB\n"
          ]
        }
      ],
      "source": [
        "df_clean.info()"
      ]
    },
    {
      "cell_type": "code",
      "execution_count": 126,
      "id": "SBERnH5b0me5",
      "metadata": {
        "id": "SBERnH5b0me5"
      },
      "outputs": [],
      "source": [
        "df_clean.to_csv('after_corr.csv', index = False)"
      ]
    },
    {
      "cell_type": "markdown",
      "id": "0e5cd7e1-c37f-4c83-907f-aa2550136f59",
      "metadata": {
        "id": "0e5cd7e1-c37f-4c83-907f-aa2550136f59"
      },
      "source": [
        "# Save clean data"
      ]
    },
    {
      "cell_type": "code",
      "execution_count": 127,
      "id": "e3387bf5-2bc3-4968-b247-07cfaf358c68",
      "metadata": {
        "id": "e3387bf5-2bc3-4968-b247-07cfaf358c68"
      },
      "outputs": [],
      "source": [
        "data_clean = df_without_NaN[['smiles', 'gap']].merge(df_clean, how='inner', left_index=True, right_index=True)"
      ]
    },
    {
      "cell_type": "code",
      "execution_count": 128,
      "id": "BFoik6Ik2FeW",
      "metadata": {
        "colab": {
          "base_uri": "https://localhost:8080/",
          "height": 424
        },
        "id": "BFoik6Ik2FeW",
        "outputId": "d86ed58e-840f-4bfa-f4d8-66cd2406b652"
      },
      "outputs": [
        {
          "data": {
            "text/html": [
              "<div>\n",
              "<style scoped>\n",
              "    .dataframe tbody tr th:only-of-type {\n",
              "        vertical-align: middle;\n",
              "    }\n",
              "\n",
              "    .dataframe tbody tr th {\n",
              "        vertical-align: top;\n",
              "    }\n",
              "\n",
              "    .dataframe thead th {\n",
              "        text-align: right;\n",
              "    }\n",
              "</style>\n",
              "<table border=\"1\" class=\"dataframe\">\n",
              "  <thead>\n",
              "    <tr style=\"text-align: right;\">\n",
              "      <th></th>\n",
              "      <th>smiles</th>\n",
              "      <th>gap</th>\n",
              "      <th>A</th>\n",
              "      <th>B</th>\n",
              "      <th>mu</th>\n",
              "      <th>alpha</th>\n",
              "      <th>u0</th>\n",
              "      <th>cv</th>\n",
              "      <th>MaxAbsEStateIndex</th>\n",
              "      <th>MinEStateIndex</th>\n",
              "      <th>...</th>\n",
              "      <th>n5Ring</th>\n",
              "      <th>n6Ring</th>\n",
              "      <th>n3HRing</th>\n",
              "      <th>n4HRing</th>\n",
              "      <th>n5HRing</th>\n",
              "      <th>n5AHRing</th>\n",
              "      <th>nFRing</th>\n",
              "      <th>GGI2</th>\n",
              "      <th>GGI3</th>\n",
              "      <th>Radius</th>\n",
              "    </tr>\n",
              "  </thead>\n",
              "  <tbody>\n",
              "    <tr>\n",
              "      <th>0</th>\n",
              "      <td>O=C1OC=NCC11CN1</td>\n",
              "      <td>0.2331</td>\n",
              "      <td>2.65458</td>\n",
              "      <td>1.85295</td>\n",
              "      <td>1.4059</td>\n",
              "      <td>66.11</td>\n",
              "      <td>-453.960419</td>\n",
              "      <td>27.142</td>\n",
              "      <td>10.802361</td>\n",
              "      <td>-0.421875</td>\n",
              "      <td>...</td>\n",
              "      <td>0.0</td>\n",
              "      <td>1.0</td>\n",
              "      <td>1.0</td>\n",
              "      <td>0.0</td>\n",
              "      <td>0.0</td>\n",
              "      <td>0.0</td>\n",
              "      <td>0.0</td>\n",
              "      <td>1.444444</td>\n",
              "      <td>0.729167</td>\n",
              "      <td>3.0</td>\n",
              "    </tr>\n",
              "    <tr>\n",
              "      <th>1</th>\n",
              "      <td>C1C(CN1C=O)C=O</td>\n",
              "      <td>0.2082</td>\n",
              "      <td>4.94875</td>\n",
              "      <td>1.15582</td>\n",
              "      <td>3.8620</td>\n",
              "      <td>64.32</td>\n",
              "      <td>-399.811727</td>\n",
              "      <td>26.627</td>\n",
              "      <td>9.906019</td>\n",
              "      <td>0.111296</td>\n",
              "      <td>...</td>\n",
              "      <td>0.0</td>\n",
              "      <td>0.0</td>\n",
              "      <td>0.0</td>\n",
              "      <td>1.0</td>\n",
              "      <td>0.0</td>\n",
              "      <td>0.0</td>\n",
              "      <td>0.0</td>\n",
              "      <td>0.444444</td>\n",
              "      <td>0.750000</td>\n",
              "      <td>3.0</td>\n",
              "    </tr>\n",
              "    <tr>\n",
              "      <th>2</th>\n",
              "      <td>C1CC1N2CCOC2=O</td>\n",
              "      <td>0.2972</td>\n",
              "      <td>3.08235</td>\n",
              "      <td>1.38222</td>\n",
              "      <td>4.6197</td>\n",
              "      <td>72.18</td>\n",
              "      <td>-439.118302</td>\n",
              "      <td>29.710</td>\n",
              "      <td>10.759444</td>\n",
              "      <td>-0.113426</td>\n",
              "      <td>...</td>\n",
              "      <td>1.0</td>\n",
              "      <td>0.0</td>\n",
              "      <td>0.0</td>\n",
              "      <td>0.0</td>\n",
              "      <td>1.0</td>\n",
              "      <td>1.0</td>\n",
              "      <td>0.0</td>\n",
              "      <td>0.944444</td>\n",
              "      <td>0.500000</td>\n",
              "      <td>2.0</td>\n",
              "    </tr>\n",
              "    <tr>\n",
              "      <th>3</th>\n",
              "      <td>OC1CC1NC(=N)C=O</td>\n",
              "      <td>0.1597</td>\n",
              "      <td>3.95367</td>\n",
              "      <td>0.82949</td>\n",
              "      <td>4.6363</td>\n",
              "      <td>74.62</td>\n",
              "      <td>-455.127740</td>\n",
              "      <td>33.649</td>\n",
              "      <td>9.806103</td>\n",
              "      <td>-0.356204</td>\n",
              "      <td>...</td>\n",
              "      <td>0.0</td>\n",
              "      <td>0.0</td>\n",
              "      <td>0.0</td>\n",
              "      <td>0.0</td>\n",
              "      <td>0.0</td>\n",
              "      <td>0.0</td>\n",
              "      <td>0.0</td>\n",
              "      <td>1.444444</td>\n",
              "      <td>0.375000</td>\n",
              "      <td>3.0</td>\n",
              "    </tr>\n",
              "    <tr>\n",
              "      <th>4</th>\n",
              "      <td>C1NC1C1CCOC=N1</td>\n",
              "      <td>0.2662</td>\n",
              "      <td>4.14610</td>\n",
              "      <td>1.04198</td>\n",
              "      <td>2.6945</td>\n",
              "      <td>76.88</td>\n",
              "      <td>-419.189278</td>\n",
              "      <td>30.168</td>\n",
              "      <td>4.958194</td>\n",
              "      <td>0.498843</td>\n",
              "      <td>...</td>\n",
              "      <td>0.0</td>\n",
              "      <td>1.0</td>\n",
              "      <td>1.0</td>\n",
              "      <td>0.0</td>\n",
              "      <td>0.0</td>\n",
              "      <td>0.0</td>\n",
              "      <td>0.0</td>\n",
              "      <td>0.500000</td>\n",
              "      <td>0.381944</td>\n",
              "      <td>3.0</td>\n",
              "    </tr>\n",
              "    <tr>\n",
              "      <th>...</th>\n",
              "      <td>...</td>\n",
              "      <td>...</td>\n",
              "      <td>...</td>\n",
              "      <td>...</td>\n",
              "      <td>...</td>\n",
              "      <td>...</td>\n",
              "      <td>...</td>\n",
              "      <td>...</td>\n",
              "      <td>...</td>\n",
              "      <td>...</td>\n",
              "      <td>...</td>\n",
              "      <td>...</td>\n",
              "      <td>...</td>\n",
              "      <td>...</td>\n",
              "      <td>...</td>\n",
              "      <td>...</td>\n",
              "      <td>...</td>\n",
              "      <td>...</td>\n",
              "      <td>...</td>\n",
              "      <td>...</td>\n",
              "      <td>...</td>\n",
              "    </tr>\n",
              "    <tr>\n",
              "      <th>19995</th>\n",
              "      <td>CCOc1cnno1</td>\n",
              "      <td>0.2199</td>\n",
              "      <td>7.81782</td>\n",
              "      <td>1.16858</td>\n",
              "      <td>4.2179</td>\n",
              "      <td>61.95</td>\n",
              "      <td>-415.833772</td>\n",
              "      <td>26.660</td>\n",
              "      <td>4.854167</td>\n",
              "      <td>0.368056</td>\n",
              "      <td>...</td>\n",
              "      <td>1.0</td>\n",
              "      <td>0.0</td>\n",
              "      <td>0.0</td>\n",
              "      <td>0.0</td>\n",
              "      <td>1.0</td>\n",
              "      <td>0.0</td>\n",
              "      <td>0.0</td>\n",
              "      <td>0.444444</td>\n",
              "      <td>0.222222</td>\n",
              "      <td>3.0</td>\n",
              "    </tr>\n",
              "    <tr>\n",
              "      <th>19996</th>\n",
              "      <td>CC1OC(C=C1)C#C</td>\n",
              "      <td>0.2532</td>\n",
              "      <td>5.06532</td>\n",
              "      <td>1.39767</td>\n",
              "      <td>1.6287</td>\n",
              "      <td>72.66</td>\n",
              "      <td>-346.571037</td>\n",
              "      <td>29.171</td>\n",
              "      <td>5.163194</td>\n",
              "      <td>-0.078704</td>\n",
              "      <td>...</td>\n",
              "      <td>1.0</td>\n",
              "      <td>0.0</td>\n",
              "      <td>0.0</td>\n",
              "      <td>0.0</td>\n",
              "      <td>1.0</td>\n",
              "      <td>1.0</td>\n",
              "      <td>0.0</td>\n",
              "      <td>0.666667</td>\n",
              "      <td>0.569444</td>\n",
              "      <td>3.0</td>\n",
              "    </tr>\n",
              "    <tr>\n",
              "      <th>19997</th>\n",
              "      <td>N#CC12COC1CCC2</td>\n",
              "      <td>0.2876</td>\n",
              "      <td>2.32431</td>\n",
              "      <td>1.67523</td>\n",
              "      <td>3.1914</td>\n",
              "      <td>75.22</td>\n",
              "      <td>-401.959779</td>\n",
              "      <td>29.412</td>\n",
              "      <td>8.716944</td>\n",
              "      <td>-0.041667</td>\n",
              "      <td>...</td>\n",
              "      <td>1.0</td>\n",
              "      <td>0.0</td>\n",
              "      <td>0.0</td>\n",
              "      <td>1.0</td>\n",
              "      <td>0.0</td>\n",
              "      <td>0.0</td>\n",
              "      <td>1.0</td>\n",
              "      <td>1.444444</td>\n",
              "      <td>0.812500</td>\n",
              "      <td>2.0</td>\n",
              "    </tr>\n",
              "    <tr>\n",
              "      <th>19998</th>\n",
              "      <td>O=C1CCC(CO1)C#C</td>\n",
              "      <td>0.2704</td>\n",
              "      <td>4.58871</td>\n",
              "      <td>0.99416</td>\n",
              "      <td>3.9391</td>\n",
              "      <td>74.90</td>\n",
              "      <td>-421.836918</td>\n",
              "      <td>31.180</td>\n",
              "      <td>10.433724</td>\n",
              "      <td>-0.123611</td>\n",
              "      <td>...</td>\n",
              "      <td>0.0</td>\n",
              "      <td>1.0</td>\n",
              "      <td>0.0</td>\n",
              "      <td>0.0</td>\n",
              "      <td>0.0</td>\n",
              "      <td>0.0</td>\n",
              "      <td>0.0</td>\n",
              "      <td>0.888889</td>\n",
              "      <td>0.250000</td>\n",
              "      <td>3.0</td>\n",
              "    </tr>\n",
              "    <tr>\n",
              "      <th>19999</th>\n",
              "      <td>CCC1C2C3NC3C12O</td>\n",
              "      <td>0.2777</td>\n",
              "      <td>2.42570</td>\n",
              "      <td>1.39469</td>\n",
              "      <td>1.1588</td>\n",
              "      <td>78.84</td>\n",
              "      <td>-403.047495</td>\n",
              "      <td>34.323</td>\n",
              "      <td>9.694722</td>\n",
              "      <td>-0.222801</td>\n",
              "      <td>...</td>\n",
              "      <td>0.0</td>\n",
              "      <td>0.0</td>\n",
              "      <td>1.0</td>\n",
              "      <td>0.0</td>\n",
              "      <td>0.0</td>\n",
              "      <td>0.0</td>\n",
              "      <td>1.0</td>\n",
              "      <td>2.222222</td>\n",
              "      <td>1.229167</td>\n",
              "      <td>3.0</td>\n",
              "    </tr>\n",
              "  </tbody>\n",
              "</table>\n",
              "<p>19652 rows × 179 columns</p>\n",
              "</div>"
            ],
            "text/plain": [
              "                smiles     gap        A        B      mu  alpha          u0  \\\n",
              "0      O=C1OC=NCC11CN1  0.2331  2.65458  1.85295  1.4059  66.11 -453.960419   \n",
              "1       C1C(CN1C=O)C=O  0.2082  4.94875  1.15582  3.8620  64.32 -399.811727   \n",
              "2       C1CC1N2CCOC2=O  0.2972  3.08235  1.38222  4.6197  72.18 -439.118302   \n",
              "3      OC1CC1NC(=N)C=O  0.1597  3.95367  0.82949  4.6363  74.62 -455.127740   \n",
              "4       C1NC1C1CCOC=N1  0.2662  4.14610  1.04198  2.6945  76.88 -419.189278   \n",
              "...                ...     ...      ...      ...     ...    ...         ...   \n",
              "19995       CCOc1cnno1  0.2199  7.81782  1.16858  4.2179  61.95 -415.833772   \n",
              "19996   CC1OC(C=C1)C#C  0.2532  5.06532  1.39767  1.6287  72.66 -346.571037   \n",
              "19997   N#CC12COC1CCC2  0.2876  2.32431  1.67523  3.1914  75.22 -401.959779   \n",
              "19998  O=C1CCC(CO1)C#C  0.2704  4.58871  0.99416  3.9391  74.90 -421.836918   \n",
              "19999  CCC1C2C3NC3C12O  0.2777  2.42570  1.39469  1.1588  78.84 -403.047495   \n",
              "\n",
              "           cv  MaxAbsEStateIndex  MinEStateIndex  ...  n5Ring  n6Ring  \\\n",
              "0      27.142          10.802361       -0.421875  ...     0.0     1.0   \n",
              "1      26.627           9.906019        0.111296  ...     0.0     0.0   \n",
              "2      29.710          10.759444       -0.113426  ...     1.0     0.0   \n",
              "3      33.649           9.806103       -0.356204  ...     0.0     0.0   \n",
              "4      30.168           4.958194        0.498843  ...     0.0     1.0   \n",
              "...       ...                ...             ...  ...     ...     ...   \n",
              "19995  26.660           4.854167        0.368056  ...     1.0     0.0   \n",
              "19996  29.171           5.163194       -0.078704  ...     1.0     0.0   \n",
              "19997  29.412           8.716944       -0.041667  ...     1.0     0.0   \n",
              "19998  31.180          10.433724       -0.123611  ...     0.0     1.0   \n",
              "19999  34.323           9.694722       -0.222801  ...     0.0     0.0   \n",
              "\n",
              "       n3HRing  n4HRing  n5HRing  n5AHRing  nFRing      GGI2      GGI3  Radius  \n",
              "0          1.0      0.0      0.0       0.0     0.0  1.444444  0.729167     3.0  \n",
              "1          0.0      1.0      0.0       0.0     0.0  0.444444  0.750000     3.0  \n",
              "2          0.0      0.0      1.0       1.0     0.0  0.944444  0.500000     2.0  \n",
              "3          0.0      0.0      0.0       0.0     0.0  1.444444  0.375000     3.0  \n",
              "4          1.0      0.0      0.0       0.0     0.0  0.500000  0.381944     3.0  \n",
              "...        ...      ...      ...       ...     ...       ...       ...     ...  \n",
              "19995      0.0      0.0      1.0       0.0     0.0  0.444444  0.222222     3.0  \n",
              "19996      0.0      0.0      1.0       1.0     0.0  0.666667  0.569444     3.0  \n",
              "19997      0.0      1.0      0.0       0.0     1.0  1.444444  0.812500     2.0  \n",
              "19998      0.0      0.0      0.0       0.0     0.0  0.888889  0.250000     3.0  \n",
              "19999      1.0      0.0      0.0       0.0     1.0  2.222222  1.229167     3.0  \n",
              "\n",
              "[19652 rows x 179 columns]"
            ]
          },
          "execution_count": 128,
          "metadata": {},
          "output_type": "execute_result"
        }
      ],
      "source": [
        "data_clean"
      ]
    },
    {
      "cell_type": "code",
      "execution_count": 129,
      "id": "hLg0eG5B2Jdn",
      "metadata": {
        "id": "hLg0eG5B2Jdn"
      },
      "outputs": [],
      "source": [
        "data_clean.to_csv('data_clean.csv', index=False)"
      ]
    },
    {
      "cell_type": "markdown",
      "id": "4c986259-cd2f-4298-aebd-1b240c7e5626",
      "metadata": {
        "id": "4c986259-cd2f-4298-aebd-1b240c7e5626"
      },
      "source": [
        "# Genetic algorithm for feature selection"
      ]
    },
    {
      "cell_type": "code",
      "execution_count": 20,
      "id": "dcaf9653",
      "metadata": {},
      "outputs": [],
      "source": [
        "data_clean = pd.read_csv('data_clean.csv')\n",
        "df_clean = pd.read_csv('after_corr.csv')"
      ]
    },
    {
      "cell_type": "code",
      "execution_count": 21,
      "id": "c36f559d-3f47-4ac0-9ed3-843abf436bff",
      "metadata": {
        "id": "c36f559d-3f47-4ac0-9ed3-843abf436bff"
      },
      "outputs": [],
      "source": [
        "from sklearn.datasets import make_classification\n",
        "from genetic_selection import GeneticSelectionCV\n",
        "from sklearn.model_selection import train_test_split\n",
        "from sklearn.ensemble import RandomForestRegressor"
      ]
    },
    {
      "cell_type": "code",
      "execution_count": 23,
      "id": "d79b5969-7fb3-445d-bb69-e53cb05463bb",
      "metadata": {
        "colab": {
          "base_uri": "https://localhost:8080/"
        },
        "id": "d79b5969-7fb3-445d-bb69-e53cb05463bb",
        "outputId": "f68245be-7bf3-46dc-b2e2-c1cf7fe64357"
      },
      "outputs": [
        {
          "name": "stdout",
          "output_type": "stream",
          "text": [
            "Selecting features with genetic algorithm.\n"
          ]
        }
      ],
      "source": [
        "X = df_clean\n",
        "y = data_clean['gap']\n",
        "\n",
        "X_train, X_test, y_train, y_test = train_test_split(X, y, test_size=0.2, random_state=42)\n",
        "\n",
        "# Initialize the GeneticSelectionCV\n",
        "selector = GeneticSelectionCV(RandomForestRegressor(), cv=5, verbose=2, scoring=\"neg_mean_squared_error\", n_population=50, crossover_proba=0.5,\n",
        "                               mutation_proba=0.2, n_generations=40, crossover_independent_proba=0.5,\n",
        "                               mutation_independent_proba=0.05, tournament_size=3, caching=True, n_jobs=-1)\n",
        "\n",
        "# Fit the selector on the training data\n",
        "selector.fit(X_train, y_train)\n",
        "\n",
        "# Get the selected feature indices\n",
        "selected_features = X.columns[selector.support_]"
      ]
    },
    {
      "cell_type": "code",
      "execution_count": null,
      "id": "6ed70ec3-d365-487f-b0ae-658d73774f8d",
      "metadata": {
        "id": "6ed70ec3-d365-487f-b0ae-658d73774f8d"
      },
      "outputs": [],
      "source": [
        "selected_features"
      ]
    }
  ],
  "metadata": {
    "colab": {
      "provenance": []
    },
    "kernelspec": {
      "display_name": "Python 3 (ipykernel)",
      "language": "python",
      "name": "python3"
    },
    "language_info": {
      "codemirror_mode": {
        "name": "ipython",
        "version": 3
      },
      "file_extension": ".py",
      "mimetype": "text/x-python",
      "name": "python",
      "nbconvert_exporter": "python",
      "pygments_lexer": "ipython3",
      "version": "3.10.9"
    }
  },
  "nbformat": 4,
  "nbformat_minor": 5
}
